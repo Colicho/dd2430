{
 "cells": [
  {
   "cell_type": "code",
   "execution_count": 68,
   "metadata": {
    "collapsed": true
   },
   "outputs": [
    {
     "name": "stdout",
     "output_type": "stream",
     "text": [
      "The autoreload extension is already loaded. To reload it, use:\n",
      "  %reload_ext autoreload\n"
     ]
    }
   ],
   "source": [
    "from path_reader import PropagationPath,PathReader\n",
    "import numpy as np\n",
    "import torch\n",
    "from PathNet import PathNet\n",
    "import torch.optim as optim\n",
    "from losses import FeatureMSE\n",
    "from patch_utils import PatchGenerator"
   ]
  },
  {
   "cell_type": "code",
   "execution_count": 40,
   "outputs": [],
   "source": [
    "paths = PathReader.read()"
   ],
   "metadata": {
    "collapsed": false
   }
  },
  {
   "cell_type": "code",
   "execution_count": 41,
   "outputs": [],
   "source": [
    "propogation_paths = []\n",
    "for transmitter in paths:\n",
    "    for receiver in transmitter:\n",
    "        if len(receiver) != 0:\n",
    "            propogation_paths.append(receiver)\n",
    "propogation_paths = [item for sublist in propogation_paths for item in sublist]"
   ],
   "metadata": {
    "collapsed": false
   }
  },
  {
   "cell_type": "code",
   "execution_count": 42,
   "outputs": [],
   "source": [
    "path_vectors = [[path.path_gain_db, path.points, path.interaction_types] for path in propogation_paths]"
   ],
   "metadata": {
    "collapsed": false
   }
  },
  {
   "cell_type": "code",
   "execution_count": 43,
   "outputs": [],
   "source": [
    "# paths have 21 dimensions: 1 for path gain, 15 for points (5x3), 5 for interaction types\n",
    "path_matrix = np.zeros((len(path_vectors),21))\n",
    "for i, path in enumerate(path_vectors):\n",
    "    path_matrix[i,0] = path[0]\n",
    "    points = np.array(path[1]).flatten()\n",
    "    path_matrix[i,1:1+len(points)] = points\n",
    "    path_matrix[i,16:16+len(path[2])] = path[2]"
   ],
   "metadata": {
    "collapsed": false
   }
  },
  {
   "cell_type": "code",
   "execution_count": 44,
   "outputs": [
    {
     "name": "stdout",
     "output_type": "stream",
     "text": [
      "FeatureMSE locality: Non-local\n"
     ]
    }
   ],
   "source": [
    "path_net = PathNet(ic=21,outc=5)\n",
    "optimizer = optim.Adam(path_net.parameters(), lr=0.001)\n",
    "loss_func = FeatureMSE()"
   ],
   "metadata": {
    "collapsed": false
   }
  },
  {
   "cell_type": "code",
   "execution_count": 45,
   "outputs": [
    {
     "ename": "IndexError",
     "evalue": "too many indices for tensor of dimension 1",
     "output_type": "error",
     "traceback": [
      "\u001B[1;31m---------------------------------------------------------------------------\u001B[0m",
      "\u001B[1;31mIndexError\u001B[0m                                Traceback (most recent call last)",
      "Cell \u001B[1;32mIn[45], line 5\u001B[0m\n\u001B[0;32m      3\u001B[0m path \u001B[38;5;241m=\u001B[39m torch\u001B[38;5;241m.\u001B[39mfrom_numpy(path)\u001B[38;5;241m.\u001B[39mfloat()\n\u001B[0;32m      4\u001B[0m optimizer\u001B[38;5;241m.\u001B[39mzero_grad()\n\u001B[1;32m----> 5\u001B[0m output \u001B[38;5;241m=\u001B[39m path_net(path)\n\u001B[0;32m      6\u001B[0m loss \u001B[38;5;241m=\u001B[39m loss_func(output, path)\n\u001B[0;32m      7\u001B[0m loss\u001B[38;5;241m.\u001B[39mbackward()\n",
      "File \u001B[1;32m~\\anaconda3\\envs\\pytorch\\Lib\\site-packages\\torch\\nn\\modules\\module.py:1501\u001B[0m, in \u001B[0;36mModule._call_impl\u001B[1;34m(self, *args, **kwargs)\u001B[0m\n\u001B[0;32m   1496\u001B[0m \u001B[38;5;66;03m# If we don't have any hooks, we want to skip the rest of the logic in\u001B[39;00m\n\u001B[0;32m   1497\u001B[0m \u001B[38;5;66;03m# this function, and just call forward.\u001B[39;00m\n\u001B[0;32m   1498\u001B[0m \u001B[38;5;28;01mif\u001B[39;00m \u001B[38;5;129;01mnot\u001B[39;00m (\u001B[38;5;28mself\u001B[39m\u001B[38;5;241m.\u001B[39m_backward_hooks \u001B[38;5;129;01mor\u001B[39;00m \u001B[38;5;28mself\u001B[39m\u001B[38;5;241m.\u001B[39m_backward_pre_hooks \u001B[38;5;129;01mor\u001B[39;00m \u001B[38;5;28mself\u001B[39m\u001B[38;5;241m.\u001B[39m_forward_hooks \u001B[38;5;129;01mor\u001B[39;00m \u001B[38;5;28mself\u001B[39m\u001B[38;5;241m.\u001B[39m_forward_pre_hooks\n\u001B[0;32m   1499\u001B[0m         \u001B[38;5;129;01mor\u001B[39;00m _global_backward_pre_hooks \u001B[38;5;129;01mor\u001B[39;00m _global_backward_hooks\n\u001B[0;32m   1500\u001B[0m         \u001B[38;5;129;01mor\u001B[39;00m _global_forward_hooks \u001B[38;5;129;01mor\u001B[39;00m _global_forward_pre_hooks):\n\u001B[1;32m-> 1501\u001B[0m     \u001B[38;5;28;01mreturn\u001B[39;00m forward_call(\u001B[38;5;241m*\u001B[39margs, \u001B[38;5;241m*\u001B[39m\u001B[38;5;241m*\u001B[39mkwargs)\n\u001B[0;32m   1502\u001B[0m \u001B[38;5;66;03m# Do not call functions when jit is used\u001B[39;00m\n\u001B[0;32m   1503\u001B[0m full_backward_hooks, non_full_backward_hooks \u001B[38;5;241m=\u001B[39m [], []\n",
      "File \u001B[1;32m~\\OneDrive\\Documents\\dd2430\\PathNet.py:29\u001B[0m, in \u001B[0;36mPathNet.forward\u001B[1;34m(self, samples)\u001B[0m\n\u001B[0;32m     28\u001B[0m \u001B[38;5;28;01mdef\u001B[39;00m \u001B[38;5;21mforward\u001B[39m(\u001B[38;5;28mself\u001B[39m, samples):\n\u001B[1;32m---> 29\u001B[0m     paths \u001B[38;5;241m=\u001B[39m samples[\u001B[38;5;124m\"\u001B[39m\u001B[38;5;124mpaths\u001B[39m\u001B[38;5;124m\"\u001B[39m]\n\u001B[0;32m     30\u001B[0m     bs, spp, nf, h, w \u001B[38;5;241m=\u001B[39m paths\u001B[38;5;241m.\u001B[39mshape\n\u001B[0;32m     32\u001B[0m     flat \u001B[38;5;241m=\u001B[39m paths\u001B[38;5;241m.\u001B[39mcontiguous()\u001B[38;5;241m.\u001B[39mview([bs\u001B[38;5;241m*\u001B[39mspp, nf, h, w])\n",
      "\u001B[1;31mIndexError\u001B[0m: too many indices for tensor of dimension 1"
     ]
    }
   ],
   "source": [
    "for epoch in range(100):\n",
    "    for i, path in enumerate(path_matrix):\n",
    "        path = torch.from_numpy(path).float()\n",
    "        optimizer.zero_grad()\n",
    "        output = path_net(path)\n",
    "        loss = loss_func(output, path)\n",
    "        loss.backward()\n",
    "        optimizer.step()\n",
    "        if i % 100 == 0:\n",
    "            print('Epoch: {} | Loss: {}'.format(epoch, loss.item()))"
   ],
   "metadata": {
    "collapsed": false
   }
  },
  {
   "cell_type": "code",
   "execution_count": 83,
   "outputs": [
    {
     "name": "stderr",
     "output_type": "stream",
     "text": [
      "C:\\Users\\thein\\anaconda3\\envs\\pytorch\\Lib\\site-packages\\sklearn\\cluster\\_kmeans.py:1416: FutureWarning: The default value of `n_init` will change from 10 to 'auto' in 1.4. Set the value of `n_init` explicitly to suppress the warning\n",
      "  super()._check_params_vs_input(X, default_n_init=10)\n"
     ]
    },
    {
     "name": "stdout",
     "output_type": "stream",
     "text": [
      "[3 3 7 ... 6 1 6]\n"
     ]
    }
   ],
   "source": [
    "patch_generator = PatchGenerator(num_patches=8, attribute=\"transmitter\")\n",
    "np.random.shuffle(propogation_paths)\n",
    "patches = patch_generator.generate_patches(propogation_paths[:50000])\n",
    "print(patches)\n"
   ],
   "metadata": {
    "collapsed": false
   }
  }
 ],
 "metadata": {
  "kernelspec": {
   "display_name": "Python 3",
   "language": "python",
   "name": "python3"
  },
  "language_info": {
   "codemirror_mode": {
    "name": "ipython",
    "version": 2
   },
   "file_extension": ".py",
   "mimetype": "text/x-python",
   "name": "python",
   "nbconvert_exporter": "python",
   "pygments_lexer": "ipython2",
   "version": "2.7.6"
  }
 },
 "nbformat": 4,
 "nbformat_minor": 0
}
